{
 "cells": [
  {
   "cell_type": "markdown",
   "id": "96970683",
   "metadata": {},
   "source": [
    "**`BANK MARKETING DATASET`**"
   ]
  },
  {
   "cell_type": "markdown",
   "id": "021da04f",
   "metadata": {},
   "source": [
    "**Dataset Information**\n",
    "\n",
    "Data ini terkait dengan kampanye pemasaran langsung dari lembaga perbankan Portugis. Kampanye pemasaran didasarkan pada panggilan telepon. Seringkali, lebih dari satu kontak ke klien yang sama diperlukan, untuk mengakses apakah produk (deposito berjangka bank) akan (\"yes\") atau tidak (\"no\") berlangganan. Ada empat dataset, diantaranya adalah:\n",
    "1. bank-additional-full.csv with all examples (41188) and 20 inputs, ordered by date (from May 2008 to November 2010), very close to the data analyzed in [Moro et al., 2014]\n",
    "2. bank-additional.csv with 10% of the examples (4119), randomly selected from 1), and 20 inputs.\n",
    "3. bank-full.csv with all examples and 17 inputs, ordered by date (older version of this dataset with less inputs).\n",
    "4. bank.csv with 10% of the examples and 17 inputs, randomly selected from 3 (older version of this dataset with less inputs).\n",
    "\n",
    "Dataset terkecil disediakan untuk menguji algoritma pembelajaran mesin yang lebih menuntut kompetensi (misalnya, SVM)"
   ]
  },
  {
   "cell_type": "markdown",
   "id": "e136b61b",
   "metadata": {},
   "source": [
    "**Tujuan Klasifikasi**\n",
    "\n",
    "Untuk memprediksi apakah klien akan berlangganan (ya/tidak) deposit berjangka (variabel y)"
   ]
  },
  {
   "cell_type": "markdown",
   "id": "21367c1f",
   "metadata": {},
   "source": [
    "# Import Library"
   ]
  },
  {
   "cell_type": "code",
   "execution_count": 42,
   "id": "e6b6bd0b",
   "metadata": {},
   "outputs": [],
   "source": [
    "import pandas as pd\n",
    "import numpy as np\n",
    "import seaborn as sns\n",
    "import matplotlib.pyplot as plt\n",
    "from sklearn.model_selection import train_test_split\n",
    "from sklearn.preprocessing import StandardScaler\n",
    "from sklearn.linear_model import LogisticRegression\n",
    "from sklearn.metrics import accuracy_score\n",
    "from sklearn.metrics import confusion_matrix\n",
    "from sklearn.metrics import classification_report\n",
    "from sklearn.neighbors import KNeighborsClassifier\n",
    "from sklearn.svm import SVC\n",
    "from sklearn.tree import DecisionTreeClassifier\n",
    "from sklearn.ensemble import RandomForestClassifier\n",
    "from sklearn.naive_bayes import GaussianNB\n",
    "\n",
    "import warnings\n",
    "warnings.filterwarnings(\"ignore\")"
   ]
  },
  {
   "cell_type": "markdown",
   "id": "dcc80310",
   "metadata": {},
   "source": [
    "# Loading Data"
   ]
  },
  {
   "cell_type": "code",
   "execution_count": 43,
   "id": "dcdd5533",
   "metadata": {},
   "outputs": [
    {
     "data": {
      "text/html": [
       "<div>\n",
       "<style scoped>\n",
       "    .dataframe tbody tr th:only-of-type {\n",
       "        vertical-align: middle;\n",
       "    }\n",
       "\n",
       "    .dataframe tbody tr th {\n",
       "        vertical-align: top;\n",
       "    }\n",
       "\n",
       "    .dataframe thead th {\n",
       "        text-align: right;\n",
       "    }\n",
       "</style>\n",
       "<table border=\"1\" class=\"dataframe\">\n",
       "  <thead>\n",
       "    <tr style=\"text-align: right;\">\n",
       "      <th></th>\n",
       "      <th>age</th>\n",
       "      <th>job</th>\n",
       "      <th>marital</th>\n",
       "      <th>education</th>\n",
       "      <th>default</th>\n",
       "      <th>balance</th>\n",
       "      <th>housing</th>\n",
       "      <th>loan</th>\n",
       "      <th>contact</th>\n",
       "      <th>day</th>\n",
       "      <th>month</th>\n",
       "      <th>duration</th>\n",
       "      <th>campaign</th>\n",
       "      <th>pdays</th>\n",
       "      <th>previous</th>\n",
       "      <th>poutcome</th>\n",
       "      <th>y</th>\n",
       "    </tr>\n",
       "  </thead>\n",
       "  <tbody>\n",
       "    <tr>\n",
       "      <th>0</th>\n",
       "      <td>58</td>\n",
       "      <td>management</td>\n",
       "      <td>married</td>\n",
       "      <td>tertiary</td>\n",
       "      <td>no</td>\n",
       "      <td>2143</td>\n",
       "      <td>yes</td>\n",
       "      <td>no</td>\n",
       "      <td>unknown</td>\n",
       "      <td>5</td>\n",
       "      <td>may</td>\n",
       "      <td>261</td>\n",
       "      <td>1</td>\n",
       "      <td>-1</td>\n",
       "      <td>0</td>\n",
       "      <td>unknown</td>\n",
       "      <td>no</td>\n",
       "    </tr>\n",
       "    <tr>\n",
       "      <th>1</th>\n",
       "      <td>44</td>\n",
       "      <td>technician</td>\n",
       "      <td>single</td>\n",
       "      <td>secondary</td>\n",
       "      <td>no</td>\n",
       "      <td>29</td>\n",
       "      <td>yes</td>\n",
       "      <td>no</td>\n",
       "      <td>unknown</td>\n",
       "      <td>5</td>\n",
       "      <td>may</td>\n",
       "      <td>151</td>\n",
       "      <td>1</td>\n",
       "      <td>-1</td>\n",
       "      <td>0</td>\n",
       "      <td>unknown</td>\n",
       "      <td>no</td>\n",
       "    </tr>\n",
       "    <tr>\n",
       "      <th>2</th>\n",
       "      <td>33</td>\n",
       "      <td>entrepreneur</td>\n",
       "      <td>married</td>\n",
       "      <td>secondary</td>\n",
       "      <td>no</td>\n",
       "      <td>2</td>\n",
       "      <td>yes</td>\n",
       "      <td>yes</td>\n",
       "      <td>unknown</td>\n",
       "      <td>5</td>\n",
       "      <td>may</td>\n",
       "      <td>76</td>\n",
       "      <td>1</td>\n",
       "      <td>-1</td>\n",
       "      <td>0</td>\n",
       "      <td>unknown</td>\n",
       "      <td>no</td>\n",
       "    </tr>\n",
       "    <tr>\n",
       "      <th>3</th>\n",
       "      <td>47</td>\n",
       "      <td>blue-collar</td>\n",
       "      <td>married</td>\n",
       "      <td>unknown</td>\n",
       "      <td>no</td>\n",
       "      <td>1506</td>\n",
       "      <td>yes</td>\n",
       "      <td>no</td>\n",
       "      <td>unknown</td>\n",
       "      <td>5</td>\n",
       "      <td>may</td>\n",
       "      <td>92</td>\n",
       "      <td>1</td>\n",
       "      <td>-1</td>\n",
       "      <td>0</td>\n",
       "      <td>unknown</td>\n",
       "      <td>no</td>\n",
       "    </tr>\n",
       "    <tr>\n",
       "      <th>4</th>\n",
       "      <td>33</td>\n",
       "      <td>unknown</td>\n",
       "      <td>single</td>\n",
       "      <td>unknown</td>\n",
       "      <td>no</td>\n",
       "      <td>1</td>\n",
       "      <td>no</td>\n",
       "      <td>no</td>\n",
       "      <td>unknown</td>\n",
       "      <td>5</td>\n",
       "      <td>may</td>\n",
       "      <td>198</td>\n",
       "      <td>1</td>\n",
       "      <td>-1</td>\n",
       "      <td>0</td>\n",
       "      <td>unknown</td>\n",
       "      <td>no</td>\n",
       "    </tr>\n",
       "    <tr>\n",
       "      <th>...</th>\n",
       "      <td>...</td>\n",
       "      <td>...</td>\n",
       "      <td>...</td>\n",
       "      <td>...</td>\n",
       "      <td>...</td>\n",
       "      <td>...</td>\n",
       "      <td>...</td>\n",
       "      <td>...</td>\n",
       "      <td>...</td>\n",
       "      <td>...</td>\n",
       "      <td>...</td>\n",
       "      <td>...</td>\n",
       "      <td>...</td>\n",
       "      <td>...</td>\n",
       "      <td>...</td>\n",
       "      <td>...</td>\n",
       "      <td>...</td>\n",
       "    </tr>\n",
       "    <tr>\n",
       "      <th>45206</th>\n",
       "      <td>51</td>\n",
       "      <td>technician</td>\n",
       "      <td>married</td>\n",
       "      <td>tertiary</td>\n",
       "      <td>no</td>\n",
       "      <td>825</td>\n",
       "      <td>no</td>\n",
       "      <td>no</td>\n",
       "      <td>cellular</td>\n",
       "      <td>17</td>\n",
       "      <td>nov</td>\n",
       "      <td>977</td>\n",
       "      <td>3</td>\n",
       "      <td>-1</td>\n",
       "      <td>0</td>\n",
       "      <td>unknown</td>\n",
       "      <td>yes</td>\n",
       "    </tr>\n",
       "    <tr>\n",
       "      <th>45207</th>\n",
       "      <td>71</td>\n",
       "      <td>retired</td>\n",
       "      <td>divorced</td>\n",
       "      <td>primary</td>\n",
       "      <td>no</td>\n",
       "      <td>1729</td>\n",
       "      <td>no</td>\n",
       "      <td>no</td>\n",
       "      <td>cellular</td>\n",
       "      <td>17</td>\n",
       "      <td>nov</td>\n",
       "      <td>456</td>\n",
       "      <td>2</td>\n",
       "      <td>-1</td>\n",
       "      <td>0</td>\n",
       "      <td>unknown</td>\n",
       "      <td>yes</td>\n",
       "    </tr>\n",
       "    <tr>\n",
       "      <th>45208</th>\n",
       "      <td>72</td>\n",
       "      <td>retired</td>\n",
       "      <td>married</td>\n",
       "      <td>secondary</td>\n",
       "      <td>no</td>\n",
       "      <td>5715</td>\n",
       "      <td>no</td>\n",
       "      <td>no</td>\n",
       "      <td>cellular</td>\n",
       "      <td>17</td>\n",
       "      <td>nov</td>\n",
       "      <td>1127</td>\n",
       "      <td>5</td>\n",
       "      <td>184</td>\n",
       "      <td>3</td>\n",
       "      <td>success</td>\n",
       "      <td>yes</td>\n",
       "    </tr>\n",
       "    <tr>\n",
       "      <th>45209</th>\n",
       "      <td>57</td>\n",
       "      <td>blue-collar</td>\n",
       "      <td>married</td>\n",
       "      <td>secondary</td>\n",
       "      <td>no</td>\n",
       "      <td>668</td>\n",
       "      <td>no</td>\n",
       "      <td>no</td>\n",
       "      <td>telephone</td>\n",
       "      <td>17</td>\n",
       "      <td>nov</td>\n",
       "      <td>508</td>\n",
       "      <td>4</td>\n",
       "      <td>-1</td>\n",
       "      <td>0</td>\n",
       "      <td>unknown</td>\n",
       "      <td>no</td>\n",
       "    </tr>\n",
       "    <tr>\n",
       "      <th>45210</th>\n",
       "      <td>37</td>\n",
       "      <td>entrepreneur</td>\n",
       "      <td>married</td>\n",
       "      <td>secondary</td>\n",
       "      <td>no</td>\n",
       "      <td>2971</td>\n",
       "      <td>no</td>\n",
       "      <td>no</td>\n",
       "      <td>cellular</td>\n",
       "      <td>17</td>\n",
       "      <td>nov</td>\n",
       "      <td>361</td>\n",
       "      <td>2</td>\n",
       "      <td>188</td>\n",
       "      <td>11</td>\n",
       "      <td>other</td>\n",
       "      <td>no</td>\n",
       "    </tr>\n",
       "  </tbody>\n",
       "</table>\n",
       "<p>45211 rows × 17 columns</p>\n",
       "</div>"
      ],
      "text/plain": [
       "       age           job   marital  education default  balance housing loan  \\\n",
       "0       58    management   married   tertiary      no     2143     yes   no   \n",
       "1       44    technician    single  secondary      no       29     yes   no   \n",
       "2       33  entrepreneur   married  secondary      no        2     yes  yes   \n",
       "3       47   blue-collar   married    unknown      no     1506     yes   no   \n",
       "4       33       unknown    single    unknown      no        1      no   no   \n",
       "...    ...           ...       ...        ...     ...      ...     ...  ...   \n",
       "45206   51    technician   married   tertiary      no      825      no   no   \n",
       "45207   71       retired  divorced    primary      no     1729      no   no   \n",
       "45208   72       retired   married  secondary      no     5715      no   no   \n",
       "45209   57   blue-collar   married  secondary      no      668      no   no   \n",
       "45210   37  entrepreneur   married  secondary      no     2971      no   no   \n",
       "\n",
       "         contact  day month  duration  campaign  pdays  previous poutcome    y  \n",
       "0        unknown    5   may       261         1     -1         0  unknown   no  \n",
       "1        unknown    5   may       151         1     -1         0  unknown   no  \n",
       "2        unknown    5   may        76         1     -1         0  unknown   no  \n",
       "3        unknown    5   may        92         1     -1         0  unknown   no  \n",
       "4        unknown    5   may       198         1     -1         0  unknown   no  \n",
       "...          ...  ...   ...       ...       ...    ...       ...      ...  ...  \n",
       "45206   cellular   17   nov       977         3     -1         0  unknown  yes  \n",
       "45207   cellular   17   nov       456         2     -1         0  unknown  yes  \n",
       "45208   cellular   17   nov      1127         5    184         3  success  yes  \n",
       "45209  telephone   17   nov       508         4     -1         0  unknown   no  \n",
       "45210   cellular   17   nov       361         2    188        11    other   no  \n",
       "\n",
       "[45211 rows x 17 columns]"
      ]
     },
     "execution_count": 43,
     "metadata": {},
     "output_type": "execute_result"
    }
   ],
   "source": [
    "df = pd.read_csv(\"dataset/bank-full.csv\", sep=\";\")\n",
    "df"
   ]
  },
  {
   "cell_type": "markdown",
   "id": "3b18e7ec",
   "metadata": {},
   "source": [
    "# Data Exploration"
   ]
  },
  {
   "cell_type": "markdown",
   "id": "331b3183",
   "metadata": {},
   "source": [
    "Melihat ringkasan pada data"
   ]
  },
  {
   "cell_type": "code",
   "execution_count": 44,
   "id": "1b081d51",
   "metadata": {
    "scrolled": false
   },
   "outputs": [
    {
     "name": "stdout",
     "output_type": "stream",
     "text": [
      "<class 'pandas.core.frame.DataFrame'>\n",
      "RangeIndex: 45211 entries, 0 to 45210\n",
      "Data columns (total 17 columns):\n",
      " #   Column     Non-Null Count  Dtype \n",
      "---  ------     --------------  ----- \n",
      " 0   age        45211 non-null  int64 \n",
      " 1   job        45211 non-null  object\n",
      " 2   marital    45211 non-null  object\n",
      " 3   education  45211 non-null  object\n",
      " 4   default    45211 non-null  object\n",
      " 5   balance    45211 non-null  int64 \n",
      " 6   housing    45211 non-null  object\n",
      " 7   loan       45211 non-null  object\n",
      " 8   contact    45211 non-null  object\n",
      " 9   day        45211 non-null  int64 \n",
      " 10  month      45211 non-null  object\n",
      " 11  duration   45211 non-null  int64 \n",
      " 12  campaign   45211 non-null  int64 \n",
      " 13  pdays      45211 non-null  int64 \n",
      " 14  previous   45211 non-null  int64 \n",
      " 15  poutcome   45211 non-null  object\n",
      " 16  y          45211 non-null  object\n",
      "dtypes: int64(7), object(10)\n",
      "memory usage: 5.9+ MB\n"
     ]
    }
   ],
   "source": [
    "# Summary\n",
    "df.info()"
   ]
  },
  {
   "cell_type": "markdown",
   "id": "a6479e5b",
   "metadata": {},
   "source": [
    "Berdasarkan keterangan diatas, menunjukkan bahwa pada data terdiri dari 2 tipe data yaitu kategori (object) dan numerik (int64). Serta memiliki 17 columns dan 45211 rows. "
   ]
  },
  {
   "cell_type": "markdown",
   "id": "b54cd34f",
   "metadata": {},
   "source": [
    "Memeriksa dimensi pada data"
   ]
  },
  {
   "cell_type": "code",
   "execution_count": 45,
   "id": "78b8cb9e",
   "metadata": {},
   "outputs": [
    {
     "data": {
      "text/plain": [
       "(45211, 17)"
      ]
     },
     "execution_count": 45,
     "metadata": {},
     "output_type": "execute_result"
    }
   ],
   "source": [
    "# Dimension dataset\n",
    "df.shape"
   ]
  },
  {
   "cell_type": "markdown",
   "id": "7d1bc14e",
   "metadata": {},
   "source": [
    "Memeriksa apakah ada nilai yang hilang"
   ]
  },
  {
   "cell_type": "code",
   "execution_count": 46,
   "id": "3bfd03bb",
   "metadata": {},
   "outputs": [
    {
     "data": {
      "text/plain": [
       "age          0\n",
       "job          0\n",
       "marital      0\n",
       "education    0\n",
       "default      0\n",
       "balance      0\n",
       "housing      0\n",
       "loan         0\n",
       "contact      0\n",
       "day          0\n",
       "month        0\n",
       "duration     0\n",
       "campaign     0\n",
       "pdays        0\n",
       "previous     0\n",
       "poutcome     0\n",
       "y            0\n",
       "dtype: int64"
      ]
     },
     "execution_count": 46,
     "metadata": {},
     "output_type": "execute_result"
    }
   ],
   "source": [
    "# Check missing values\n",
    "df.isnull().sum()"
   ]
  },
  {
   "cell_type": "markdown",
   "id": "ef636933",
   "metadata": {},
   "source": [
    "Memeriksa duplikasi data"
   ]
  },
  {
   "cell_type": "code",
   "execution_count": 47,
   "id": "d9525cf9",
   "metadata": {},
   "outputs": [
    {
     "data": {
      "text/plain": [
       "0"
      ]
     },
     "execution_count": 47,
     "metadata": {},
     "output_type": "execute_result"
    }
   ],
   "source": [
    "df.duplicated().sum()"
   ]
  },
  {
   "cell_type": "markdown",
   "id": "02ba5833",
   "metadata": {},
   "source": [
    "Melihat distribusi dari variabel `y` (target)"
   ]
  },
  {
   "cell_type": "code",
   "execution_count": 48,
   "id": "077a65b8",
   "metadata": {},
   "outputs": [
    {
     "data": {
      "text/plain": [
       "y\n",
       "no     88.30152\n",
       "yes    11.69848\n",
       "dtype: float64"
      ]
     },
     "execution_count": 48,
     "metadata": {},
     "output_type": "execute_result"
    }
   ],
   "source": [
    "tot_rows = len(df)\n",
    "df.groupby(\"y\").size()/tot_rows*100"
   ]
  },
  {
   "cell_type": "markdown",
   "id": "b72f06c1",
   "metadata": {},
   "source": [
    "Berdasarkan keterangan diatas, terlihat bahwa persentase terbanyak adalah `no` yaitu 88,30% dan untuk yes memiliki persentase 11.69%."
   ]
  },
  {
   "cell_type": "markdown",
   "id": "5882d3d4",
   "metadata": {},
   "source": [
    "## Numerical Variable"
   ]
  },
  {
   "cell_type": "code",
   "execution_count": 49,
   "id": "2f035613",
   "metadata": {},
   "outputs": [
    {
     "name": "stdout",
     "output_type": "stream",
     "text": [
      "['age' 'balance' 'day' 'duration' 'campaign' 'pdays' 'previous']\n"
     ]
    }
   ],
   "source": [
    "# Specific data type (numerical)\n",
    "num_var = df.select_dtypes(include=[\"int64\"]).columns.values\n",
    "print(num_var)"
   ]
  },
  {
   "cell_type": "markdown",
   "id": "468c31b3",
   "metadata": {},
   "source": [
    "Melihat korelasi antar variabel numerik."
   ]
  },
  {
   "cell_type": "code",
   "execution_count": 50,
   "id": "9b337d3b",
   "metadata": {},
   "outputs": [
    {
     "data": {
      "text/html": [
       "<div>\n",
       "<style scoped>\n",
       "    .dataframe tbody tr th:only-of-type {\n",
       "        vertical-align: middle;\n",
       "    }\n",
       "\n",
       "    .dataframe tbody tr th {\n",
       "        vertical-align: top;\n",
       "    }\n",
       "\n",
       "    .dataframe thead th {\n",
       "        text-align: right;\n",
       "    }\n",
       "</style>\n",
       "<table border=\"1\" class=\"dataframe\">\n",
       "  <thead>\n",
       "    <tr style=\"text-align: right;\">\n",
       "      <th></th>\n",
       "      <th>age</th>\n",
       "      <th>balance</th>\n",
       "      <th>day</th>\n",
       "      <th>duration</th>\n",
       "      <th>campaign</th>\n",
       "      <th>pdays</th>\n",
       "      <th>previous</th>\n",
       "    </tr>\n",
       "  </thead>\n",
       "  <tbody>\n",
       "    <tr>\n",
       "      <th>age</th>\n",
       "      <td>1.000000</td>\n",
       "      <td>0.097783</td>\n",
       "      <td>-0.009120</td>\n",
       "      <td>-0.004648</td>\n",
       "      <td>0.004760</td>\n",
       "      <td>-0.023758</td>\n",
       "      <td>0.001288</td>\n",
       "    </tr>\n",
       "    <tr>\n",
       "      <th>balance</th>\n",
       "      <td>0.097783</td>\n",
       "      <td>1.000000</td>\n",
       "      <td>0.004503</td>\n",
       "      <td>0.021560</td>\n",
       "      <td>-0.014578</td>\n",
       "      <td>0.003435</td>\n",
       "      <td>0.016674</td>\n",
       "    </tr>\n",
       "    <tr>\n",
       "      <th>day</th>\n",
       "      <td>-0.009120</td>\n",
       "      <td>0.004503</td>\n",
       "      <td>1.000000</td>\n",
       "      <td>-0.030206</td>\n",
       "      <td>0.162490</td>\n",
       "      <td>-0.093044</td>\n",
       "      <td>-0.051710</td>\n",
       "    </tr>\n",
       "    <tr>\n",
       "      <th>duration</th>\n",
       "      <td>-0.004648</td>\n",
       "      <td>0.021560</td>\n",
       "      <td>-0.030206</td>\n",
       "      <td>1.000000</td>\n",
       "      <td>-0.084570</td>\n",
       "      <td>-0.001565</td>\n",
       "      <td>0.001203</td>\n",
       "    </tr>\n",
       "    <tr>\n",
       "      <th>campaign</th>\n",
       "      <td>0.004760</td>\n",
       "      <td>-0.014578</td>\n",
       "      <td>0.162490</td>\n",
       "      <td>-0.084570</td>\n",
       "      <td>1.000000</td>\n",
       "      <td>-0.088628</td>\n",
       "      <td>-0.032855</td>\n",
       "    </tr>\n",
       "    <tr>\n",
       "      <th>pdays</th>\n",
       "      <td>-0.023758</td>\n",
       "      <td>0.003435</td>\n",
       "      <td>-0.093044</td>\n",
       "      <td>-0.001565</td>\n",
       "      <td>-0.088628</td>\n",
       "      <td>1.000000</td>\n",
       "      <td>0.454820</td>\n",
       "    </tr>\n",
       "    <tr>\n",
       "      <th>previous</th>\n",
       "      <td>0.001288</td>\n",
       "      <td>0.016674</td>\n",
       "      <td>-0.051710</td>\n",
       "      <td>0.001203</td>\n",
       "      <td>-0.032855</td>\n",
       "      <td>0.454820</td>\n",
       "      <td>1.000000</td>\n",
       "    </tr>\n",
       "  </tbody>\n",
       "</table>\n",
       "</div>"
      ],
      "text/plain": [
       "               age   balance       day  duration  campaign     pdays  previous\n",
       "age       1.000000  0.097783 -0.009120 -0.004648  0.004760 -0.023758  0.001288\n",
       "balance   0.097783  1.000000  0.004503  0.021560 -0.014578  0.003435  0.016674\n",
       "day      -0.009120  0.004503  1.000000 -0.030206  0.162490 -0.093044 -0.051710\n",
       "duration -0.004648  0.021560 -0.030206  1.000000 -0.084570 -0.001565  0.001203\n",
       "campaign  0.004760 -0.014578  0.162490 -0.084570  1.000000 -0.088628 -0.032855\n",
       "pdays    -0.023758  0.003435 -0.093044 -0.001565 -0.088628  1.000000  0.454820\n",
       "previous  0.001288  0.016674 -0.051710  0.001203 -0.032855  0.454820  1.000000"
      ]
     },
     "execution_count": 50,
     "metadata": {},
     "output_type": "execute_result"
    }
   ],
   "source": [
    "# Find the correlation\n",
    "corr = df.corr()\n",
    "corr"
   ]
  },
  {
   "cell_type": "code",
   "execution_count": 51,
   "id": "9905dfb1",
   "metadata": {},
   "outputs": [
    {
     "data": {
      "image/png": "[encoded data removed]",
      "text/plain": [
       "<Figure size 1368x648 with 2 Axes>"
      ]
     },
     "metadata": {
      "needs_background": "light"
     },
     "output_type": "display_data"
    }
   ],
   "source": [
    "# Plotting the heatmaps\n",
    "plt.subplots(figsize=(19, 9))\n",
    "sns.heatmap(corr, cmap=\"PuRd\", annot=True)\n",
    "plt.show()"
   ]
  },
  {
   "cell_type": "markdown",
   "id": "e27d916d",
   "metadata": {},
   "source": [
    "Melihat statistik variabel numerik pada data."
   ]
  },
  {
   "cell_type": "code",
   "execution_count": 52,
   "id": "c26cad8e",
   "metadata": {},
   "outputs": [
    {
     "data": {
      "text/html": [
       "<div>\n",
       "<style scoped>\n",
       "    .dataframe tbody tr th:only-of-type {\n",
       "        vertical-align: middle;\n",
       "    }\n",
       "\n",
       "    .dataframe tbody tr th {\n",
       "        vertical-align: top;\n",
       "    }\n",
       "\n",
       "    .dataframe thead th {\n",
       "        text-align: right;\n",
       "    }\n",
       "</style>\n",
       "<table border=\"1\" class=\"dataframe\">\n",
       "  <thead>\n",
       "    <tr style=\"text-align: right;\">\n",
       "      <th></th>\n",
       "      <th>age</th>\n",
       "      <th>balance</th>\n",
       "      <th>day</th>\n",
       "      <th>duration</th>\n",
       "      <th>campaign</th>\n",
       "      <th>pdays</th>\n",
       "      <th>previous</th>\n",
       "    </tr>\n",
       "  </thead>\n",
       "  <tbody>\n",
       "    <tr>\n",
       "      <th>count</th>\n",
       "      <td>45211.000000</td>\n",
       "      <td>45211.000000</td>\n",
       "      <td>45211.000000</td>\n",
       "      <td>45211.000000</td>\n",
       "      <td>45211.000000</td>\n",
       "      <td>45211.000000</td>\n",
       "      <td>45211.000000</td>\n",
       "    </tr>\n",
       "    <tr>\n",
       "      <th>mean</th>\n",
       "      <td>40.936210</td>\n",
       "      <td>1362.272058</td>\n",
       "      <td>15.806419</td>\n",
       "      <td>258.163080</td>\n",
       "      <td>2.763841</td>\n",
       "      <td>40.197828</td>\n",
       "      <td>0.580323</td>\n",
       "    </tr>\n",
       "    <tr>\n",
       "      <th>std</th>\n",
       "      <td>10.618762</td>\n",
       "      <td>3044.765829</td>\n",
       "      <td>8.322476</td>\n",
       "      <td>257.527812</td>\n",
       "      <td>3.098021</td>\n",
       "      <td>100.128746</td>\n",
       "      <td>2.303441</td>\n",
       "    </tr>\n",
       "    <tr>\n",
       "      <th>min</th>\n",
       "      <td>18.000000</td>\n",
       "      <td>-8019.000000</td>\n",
       "      <td>1.000000</td>\n",
       "      <td>0.000000</td>\n",
       "      <td>1.000000</td>\n",
       "      <td>-1.000000</td>\n",
       "      <td>0.000000</td>\n",
       "    </tr>\n",
       "    <tr>\n",
       "      <th>25%</th>\n",
       "      <td>33.000000</td>\n",
       "      <td>72.000000</td>\n",
       "      <td>8.000000</td>\n",
       "      <td>103.000000</td>\n",
       "      <td>1.000000</td>\n",
       "      <td>-1.000000</td>\n",
       "      <td>0.000000</td>\n",
       "    </tr>\n",
       "    <tr>\n",
       "      <th>50%</th>\n",
       "      <td>39.000000</td>\n",
       "      <td>448.000000</td>\n",
       "      <td>16.000000</td>\n",
       "      <td>180.000000</td>\n",
       "      <td>2.000000</td>\n",
       "      <td>-1.000000</td>\n",
       "      <td>0.000000</td>\n",
       "    </tr>\n",
       "    <tr>\n",
       "      <th>75%</th>\n",
       "      <td>48.000000</td>\n",
       "      <td>1428.000000</td>\n",
       "      <td>21.000000</td>\n",
       "      <td>319.000000</td>\n",
       "      <td>3.000000</td>\n",
       "      <td>-1.000000</td>\n",
       "      <td>0.000000</td>\n",
       "    </tr>\n",
       "    <tr>\n",
       "      <th>max</th>\n",
       "      <td>95.000000</td>\n",
       "      <td>102127.000000</td>\n",
       "      <td>31.000000</td>\n",
       "      <td>4918.000000</td>\n",
       "      <td>63.000000</td>\n",
       "      <td>871.000000</td>\n",
       "      <td>275.000000</td>\n",
       "    </tr>\n",
       "  </tbody>\n",
       "</table>\n",
       "</div>"
      ],
      "text/plain": [
       "                age        balance           day      duration      campaign  \\\n",
       "count  45211.000000   45211.000000  45211.000000  45211.000000  45211.000000   \n",
       "mean      40.936210    1362.272058     15.806419    258.163080      2.763841   \n",
       "std       10.618762    3044.765829      8.322476    257.527812      3.098021   \n",
       "min       18.000000   -8019.000000      1.000000      0.000000      1.000000   \n",
       "25%       33.000000      72.000000      8.000000    103.000000      1.000000   \n",
       "50%       39.000000     448.000000     16.000000    180.000000      2.000000   \n",
       "75%       48.000000    1428.000000     21.000000    319.000000      3.000000   \n",
       "max       95.000000  102127.000000     31.000000   4918.000000     63.000000   \n",
       "\n",
       "              pdays      previous  \n",
       "count  45211.000000  45211.000000  \n",
       "mean      40.197828      0.580323  \n",
       "std      100.128746      2.303441  \n",
       "min       -1.000000      0.000000  \n",
       "25%       -1.000000      0.000000  \n",
       "50%       -1.000000      0.000000  \n",
       "75%       -1.000000      0.000000  \n",
       "max      871.000000    275.000000  "
      ]
     },
     "execution_count": 52,
     "metadata": {},
     "output_type": "execute_result"
    }
   ],
   "source": [
    "df.describe()"
   ]
  },
  {
   "cell_type": "markdown",
   "id": "3ec705d0",
   "metadata": {},
   "source": [
    "Berdasarkan keterangan diatas, terlihat bahwa adanya beberapa variabel yang memiliki nilai outlier. Outlier dapat di cek menggunakan boxplot seperti dibawah ini."
   ]
  },
  {
   "cell_type": "code",
   "execution_count": 53,
   "id": "01656eef",
   "metadata": {
    "scrolled": false
   },
   "outputs": [
    {
     "data": {
      "image/png": "[encoded data removed]",
      "text/plain": [
       "<Figure size 1152x1584 with 7 Axes>"
      ]
     },
     "metadata": {
      "needs_background": "light"
     },
     "output_type": "display_data"
    }
   ],
   "source": [
    "plt.figure(figsize=(16, 22))\n",
    "\n",
    "# age\n",
    "plt.subplot(4, 2, 1)\n",
    "sns.boxplot(x=\"y\", y=\"age\", data=df, palette=\"magma\")\n",
    "\n",
    "# balance\n",
    "plt.subplot(4, 2, 2)\n",
    "sns.boxplot(x=\"y\", y=\"balance\", data=df, palette=\"magma\")\n",
    "\n",
    "# day\n",
    "plt.subplot(4, 2, 3)\n",
    "sns.boxplot(x=\"y\", y=\"day\", data=df, palette=\"magma\")\n",
    "\n",
    "# duration\n",
    "plt.subplot(4, 2, 4)\n",
    "sns.boxplot(x=\"y\", y=\"duration\", data=df, palette=\"magma\")\n",
    "\n",
    "# campaign\n",
    "plt.subplot(4, 2, 5)\n",
    "sns.boxplot(x=\"y\", y=\"campaign\", data=df, palette=\"magma\")\n",
    "\n",
    "# pdays\n",
    "plt.subplot(4, 2, 6)\n",
    "sns.boxplot(x=\"y\", y=\"pdays\", data=df, palette=\"magma\")\n",
    "\n",
    "# previous\n",
    "plt.subplot(4, 2, 7)\n",
    "sns.boxplot(x=\"y\", y=\"previous\", data=df, palette=\"magma\")\n",
    "\n",
    "plt.show()"
   ]
  },
  {
   "cell_type": "markdown",
   "id": "aae5a9e9",
   "metadata": {},
   "source": [
    "Berdasarkan hasil visualisasi boxplot diatas, variabel yang memiliki nilai outlier adalah variabel balance, duration, campaign, pdays, dan previous."
   ]
  },
  {
   "cell_type": "markdown",
   "id": "641c9784",
   "metadata": {},
   "source": [
    "Hitung IQR"
   ]
  },
  {
   "cell_type": "code",
   "execution_count": 54,
   "id": "03a9c3a6",
   "metadata": {
    "scrolled": true
   },
   "outputs": [
    {
     "name": "stdout",
     "output_type": "stream",
     "text": [
      "age           15.0\n",
      "balance     1356.0\n",
      "day           13.0\n",
      "duration     216.0\n",
      "campaign       2.0\n",
      "pdays          0.0\n",
      "previous       0.0\n",
      "dtype: float64\n"
     ]
    }
   ],
   "source": [
    "# First quartile (Q1)\n",
    "Q1 = df.quantile(0.25)\n",
    "\n",
    "# Third quartile (Q3)\n",
    "Q3 = df.quantile(0.75)\n",
    "\n",
    "# Interquartile Range (IQR)\n",
    "IQR = Q3 - Q1\n",
    "\n",
    "print(IQR)"
   ]
  },
  {
   "cell_type": "markdown",
   "id": "122ae9b5",
   "metadata": {},
   "source": [
    "Hasil diatas merupakan IQR untuk setiap variabel"
   ]
  },
  {
   "cell_type": "markdown",
   "id": "f494dcc3",
   "metadata": {},
   "source": [
    "Jika hasil print lower dan upper `False`, maka nilai sudah Valid, dan jika `True` maka menunjukkan adanya outlier"
   ]
  },
  {
   "cell_type": "code",
   "execution_count": 55,
   "id": "b4d6681b",
   "metadata": {},
   "outputs": [
    {
     "name": "stdout",
     "output_type": "stream",
     "text": [
      "lower\n",
      "age          False\n",
      "balance       True\n",
      "campaign     False\n",
      "contact      False\n",
      "day          False\n",
      "default      False\n",
      "duration     False\n",
      "education    False\n",
      "housing      False\n",
      "job          False\n",
      "loan         False\n",
      "marital      False\n",
      "month        False\n",
      "pdays        False\n",
      "poutcome     False\n",
      "previous     False\n",
      "y            False\n",
      "dtype: bool\n",
      "\n",
      "Upper\n",
      "age           True\n",
      "balance       True\n",
      "campaign      True\n",
      "contact      False\n",
      "day          False\n",
      "default      False\n",
      "duration      True\n",
      "education    False\n",
      "housing      False\n",
      "job          False\n",
      "loan         False\n",
      "marital      False\n",
      "month        False\n",
      "pdays         True\n",
      "poutcome     False\n",
      "previous      True\n",
      "y            False\n",
      "dtype: bool\n",
      "\n"
     ]
    }
   ],
   "source": [
    "lower = df < (Q1 - 1.5 * IQR)\n",
    "upper = df > (Q3 + 1.5 * IQR)\n",
    "print(\"lower\\n{}\\n\".format(lower.any()))\n",
    "print(\"Upper\\n{}\\n\".format(upper.any()))"
   ]
  },
  {
   "cell_type": "code",
   "execution_count": 56,
   "id": "d21132e4",
   "metadata": {},
   "outputs": [],
   "source": [
    "# remove outlier\n",
    "df = df[~((df < (Q1 - 1.5 * IQR)) |(df > (Q3 + 1.5 * IQR))).any(axis=1)]"
   ]
  },
  {
   "cell_type": "code",
   "execution_count": 57,
   "id": "0168bf5c",
   "metadata": {},
   "outputs": [
    {
     "data": {
      "text/plain": [
       "(28193, 17)"
      ]
     },
     "execution_count": 57,
     "metadata": {},
     "output_type": "execute_result"
    }
   ],
   "source": [
    "df.shape"
   ]
  },
  {
   "cell_type": "markdown",
   "id": "dac145a8",
   "metadata": {},
   "source": [
    "Cek kembali dengan visualisasi boxplot."
   ]
  },
  {
   "cell_type": "code",
   "execution_count": 58,
   "id": "83cac995",
   "metadata": {},
   "outputs": [
    {
     "data": {
      "image/png": "[encoded data removed]",
      "text/plain": [
       "<Figure size 1152x1584 with 7 Axes>"
      ]
     },
     "metadata": {
      "needs_background": "light"
     },
     "output_type": "display_data"
    }
   ],
   "source": [
    "plt.figure(figsize=(16, 22))\n",
    "\n",
    "# age\n",
    "plt.subplot(4, 2, 1)\n",
    "sns.boxplot(x=\"y\", y=\"age\", data=df, palette=\"magma\")\n",
    "\n",
    "# balance\n",
    "plt.subplot(4, 2, 2)\n",
    "sns.boxplot(x=\"y\", y=\"balance\", data=df, palette=\"magma\")\n",
    "\n",
    "# day\n",
    "plt.subplot(4, 2, 3)\n",
    "sns.boxplot(x=\"y\", y=\"day\", data=df, palette=\"magma\")\n",
    "\n",
    "# duration\n",
    "plt.subplot(4, 2, 4)\n",
    "sns.boxplot(x=\"y\", y=\"duration\", data=df, palette=\"magma\")\n",
    "\n",
    "# campaign\n",
    "plt.subplot(4, 2, 5)\n",
    "sns.boxplot(x=\"y\", y=\"campaign\", data=df, palette=\"magma\")\n",
    "\n",
    "# pdays\n",
    "plt.subplot(4, 2, 6)\n",
    "sns.boxplot(x=\"y\", y=\"pdays\", data=df, palette=\"magma\")\n",
    "\n",
    "# previous\n",
    "plt.subplot(4, 2, 7)\n",
    "sns.boxplot(x=\"y\", y=\"previous\", data=df, palette=\"magma\")\n",
    "\n",
    "plt.show()"
   ]
  },
  {
   "cell_type": "markdown",
   "id": "cfbf944a",
   "metadata": {},
   "source": [
    "## Categorical variable"
   ]
  },
  {
   "cell_type": "code",
   "execution_count": 59,
   "id": "44e6cd1e",
   "metadata": {},
   "outputs": [
    {
     "name": "stdout",
     "output_type": "stream",
     "text": [
      "['job' 'marital' 'education' 'default' 'housing' 'loan' 'contact' 'month'\n",
      " 'poutcome' 'y']\n"
     ]
    }
   ],
   "source": [
    "# Specific data type (categorical)\n",
    "categ_var = df.select_dtypes(include=[\"object\"]).columns.values\n",
    "print(categ_var)"
   ]
  },
  {
   "cell_type": "code",
   "execution_count": 60,
   "id": "75cf72bd",
   "metadata": {},
   "outputs": [
    {
     "data": {
      "image/png": "[encoded data removed]",
      "text/plain": [
       "<Figure size 864x432 with 1 Axes>"
      ]
     },
     "metadata": {
      "needs_background": "light"
     },
     "output_type": "display_data"
    }
   ],
   "source": [
    "plt.figure(figsize=(12, 6))\n",
    "sns.countplot(x=\"job\", hue=\"y\", data=df, palette=\"magma\")\n",
    "plt.xlabel(\"Job\", fontsize=12)\n",
    "plt.ylabel(\"Count\", fontsize=12)\n",
    "plt.title(\"Job and 'yes' or 'not' subscribed\\n\", fontsize=14)\n",
    "plt.xticks(rotation=90, fontsize=12)\n",
    "plt.yticks(fontsize=12)\n",
    "plt.legend()\n",
    "plt.show()"
   ]
  },
  {
   "cell_type": "markdown",
   "id": "e88ec311",
   "metadata": {},
   "source": [
    "Berdasarkan visualisasi diatas, menunjukkan deposit berjangka berdasarkan `job`. Customer dengan job `blue-collar` cenderung tidak memiliki deposit berjangka dibandingkan dengan `job` lainnya."
   ]
  },
  {
   "cell_type": "code",
   "execution_count": 61,
   "id": "9a9adcd3",
   "metadata": {},
   "outputs": [
    {
     "data": {
      "image/png": "[encoded data removed]",
      "text/plain": [
       "<Figure size 864x360 with 1 Axes>"
      ]
     },
     "metadata": {
      "needs_background": "light"
     },
     "output_type": "display_data"
    }
   ],
   "source": [
    "plt.figure(figsize=(12, 5))\n",
    "sns.countplot(x=\"marital\", hue=\"y\", data=df, palette=\"magma\")\n",
    "plt.xlabel(\"Marital\", fontsize=12)\n",
    "plt.ylabel(\"Count\", fontsize=12)\n",
    "plt.title(\"Marital and 'yes' or 'not' subscribed\\n\", fontsize=14)\n",
    "plt.xticks(fontsize=12)\n",
    "plt.yticks(fontsize=12)\n",
    "plt.legend()\n",
    "plt.show()"
   ]
  },
  {
   "cell_type": "markdown",
   "id": "20b95b9e",
   "metadata": {},
   "source": [
    "Berdasarkan visualisasi diatas, menunjukkan deposit berjangka berdasarkan `marital` (status pernikahan). Customer berstatus `married` lebih tidak memiliki deposit berjangka dibandingkan dengan customer yang berstatus `single` dan `divorced`"
   ]
  },
  {
   "cell_type": "code",
   "execution_count": 62,
   "id": "ff2318dd",
   "metadata": {},
   "outputs": [
    {
     "data": {
      "image/png": "[encoded data removed]",
      "text/plain": [
       "<Figure size 864x360 with 1 Axes>"
      ]
     },
     "metadata": {
      "needs_background": "light"
     },
     "output_type": "display_data"
    }
   ],
   "source": [
    "plt.figure(figsize=(12, 5))\n",
    "sns.countplot(x=\"education\", hue=\"y\", data=df, palette=\"magma\")\n",
    "plt.xlabel(\"Education\", fontsize=12)\n",
    "plt.ylabel(\"Count\", fontsize=12)\n",
    "plt.title(\"Education and 'yes' or 'not' subscribed\", fontsize=14)\n",
    "plt.xticks(fontsize=12)\n",
    "plt.yticks(fontsize=12)\n",
    "plt.legend()\n",
    "plt.show()"
   ]
  },
  {
   "cell_type": "markdown",
   "id": "05eb2181",
   "metadata": {},
   "source": [
    "Berdasarkan visualisasi diatas, menunjukkan deposit berjangka berdasarkan `education`. Customer dengan pendidikan `secondary` lebih tidak memiliki deposit berjangka. "
   ]
  },
  {
   "cell_type": "code",
   "execution_count": 63,
   "id": "977d9bf6",
   "metadata": {
    "scrolled": false
   },
   "outputs": [
    {
     "data": {
      "image/png": "[encoded data removed]",
      "text/plain": [
       "<Figure size 864x360 with 1 Axes>"
      ]
     },
     "metadata": {
      "needs_background": "light"
     },
     "output_type": "display_data"
    }
   ],
   "source": [
    "plt.figure(figsize=(12, 5))\n",
    "sns.countplot(x=\"contact\", hue=\"y\", data=df, palette=\"magma\")\n",
    "plt.xlabel(\"Contact\", fontsize=12)\n",
    "plt.ylabel(\"Count\", fontsize=12)\n",
    "plt.title(\"Contact and 'yes' or 'not' subscribed\\n\", fontsize=14)\n",
    "plt.xticks(fontsize=12)\n",
    "plt.yticks(fontsize=12)\n",
    "plt.legend()\n",
    "plt.show()"
   ]
  },
  {
   "cell_type": "markdown",
   "id": "7f889e4d",
   "metadata": {},
   "source": [
    "Berdasarkan visualisasi diatas, menunjukkan deposit berjangka berdasarkan `contact`. Customer dengan jenis kontak `cellular` cenderung tidak berlangganan deposit berjangka."
   ]
  },
  {
   "cell_type": "code",
   "execution_count": 64,
   "id": "766c70d1",
   "metadata": {},
   "outputs": [
    {
     "data": {
      "image/png": "[encoded data removed]",
      "text/plain": [
       "<Figure size 864x360 with 1 Axes>"
      ]
     },
     "metadata": {
      "needs_background": "light"
     },
     "output_type": "display_data"
    }
   ],
   "source": [
    "plt.figure(figsize=(12, 5))\n",
    "sns.countplot(x=\"y\", hue=\"y\", data=df, palette=\"magma\")\n",
    "plt.xlabel(\"y\", fontsize=12)\n",
    "plt.ylabel(\"Count\", fontsize=12)\n",
    "plt.title(\"y and 'yes' or 'not' subscribed\\n\", fontsize=14)\n",
    "plt.xticks(fontsize=12)\n",
    "plt.yticks(fontsize=12)\n",
    "plt.legend()\n",
    "plt.show()"
   ]
  },
  {
   "cell_type": "markdown",
   "id": "9aaf35c3",
   "metadata": {},
   "source": [
    "Berdasarkan visualisasi diatas, menunjukkan bahwa customer cenderung lebih tidak berlangganan deposit berjangka."
   ]
  },
  {
   "cell_type": "markdown",
   "id": "0c944ed3",
   "metadata": {},
   "source": [
    "# Building Model"
   ]
  },
  {
   "cell_type": "markdown",
   "id": "54df5031",
   "metadata": {},
   "source": [
    "Memisahkan dataset menjadi `data` dan `target`"
   ]
  },
  {
   "cell_type": "code",
   "execution_count": 65,
   "id": "29178e09",
   "metadata": {
    "scrolled": true
   },
   "outputs": [],
   "source": [
    "# data\n",
    "X = df.drop(\"y\", axis=1)\n",
    "\n",
    "# target\n",
    "y = df[\"y\"]"
   ]
  },
  {
   "cell_type": "code",
   "execution_count": 66,
   "id": "0fd25901",
   "metadata": {
    "scrolled": true
   },
   "outputs": [],
   "source": [
    "X = pd.get_dummies(X)"
   ]
  },
  {
   "cell_type": "code",
   "execution_count": 67,
   "id": "1edd86f4",
   "metadata": {},
   "outputs": [
    {
     "data": {
      "text/html": [
       "<div>\n",
       "<style scoped>\n",
       "    .dataframe tbody tr th:only-of-type {\n",
       "        vertical-align: middle;\n",
       "    }\n",
       "\n",
       "    .dataframe tbody tr th {\n",
       "        vertical-align: top;\n",
       "    }\n",
       "\n",
       "    .dataframe thead th {\n",
       "        text-align: right;\n",
       "    }\n",
       "</style>\n",
       "<table border=\"1\" class=\"dataframe\">\n",
       "  <thead>\n",
       "    <tr style=\"text-align: right;\">\n",
       "      <th></th>\n",
       "      <th>age</th>\n",
       "      <th>balance</th>\n",
       "      <th>day</th>\n",
       "      <th>duration</th>\n",
       "      <th>campaign</th>\n",
       "      <th>pdays</th>\n",
       "      <th>previous</th>\n",
       "      <th>job_admin.</th>\n",
       "      <th>job_blue-collar</th>\n",
       "      <th>job_entrepreneur</th>\n",
       "      <th>...</th>\n",
       "      <th>month_feb</th>\n",
       "      <th>month_jan</th>\n",
       "      <th>month_jul</th>\n",
       "      <th>month_jun</th>\n",
       "      <th>month_mar</th>\n",
       "      <th>month_may</th>\n",
       "      <th>month_nov</th>\n",
       "      <th>month_oct</th>\n",
       "      <th>month_sep</th>\n",
       "      <th>poutcome_unknown</th>\n",
       "    </tr>\n",
       "  </thead>\n",
       "  <tbody>\n",
       "    <tr>\n",
       "      <th>0</th>\n",
       "      <td>58</td>\n",
       "      <td>2143</td>\n",
       "      <td>5</td>\n",
       "      <td>261</td>\n",
       "      <td>1</td>\n",
       "      <td>-1</td>\n",
       "      <td>0</td>\n",
       "      <td>0</td>\n",
       "      <td>0</td>\n",
       "      <td>0</td>\n",
       "      <td>...</td>\n",
       "      <td>0</td>\n",
       "      <td>0</td>\n",
       "      <td>0</td>\n",
       "      <td>0</td>\n",
       "      <td>0</td>\n",
       "      <td>1</td>\n",
       "      <td>0</td>\n",
       "      <td>0</td>\n",
       "      <td>0</td>\n",
       "      <td>1</td>\n",
       "    </tr>\n",
       "    <tr>\n",
       "      <th>1</th>\n",
       "      <td>44</td>\n",
       "      <td>29</td>\n",
       "      <td>5</td>\n",
       "      <td>151</td>\n",
       "      <td>1</td>\n",
       "      <td>-1</td>\n",
       "      <td>0</td>\n",
       "      <td>0</td>\n",
       "      <td>0</td>\n",
       "      <td>0</td>\n",
       "      <td>...</td>\n",
       "      <td>0</td>\n",
       "      <td>0</td>\n",
       "      <td>0</td>\n",
       "      <td>0</td>\n",
       "      <td>0</td>\n",
       "      <td>1</td>\n",
       "      <td>0</td>\n",
       "      <td>0</td>\n",
       "      <td>0</td>\n",
       "      <td>1</td>\n",
       "    </tr>\n",
       "    <tr>\n",
       "      <th>2</th>\n",
       "      <td>33</td>\n",
       "      <td>2</td>\n",
       "      <td>5</td>\n",
       "      <td>76</td>\n",
       "      <td>1</td>\n",
       "      <td>-1</td>\n",
       "      <td>0</td>\n",
       "      <td>0</td>\n",
       "      <td>0</td>\n",
       "      <td>1</td>\n",
       "      <td>...</td>\n",
       "      <td>0</td>\n",
       "      <td>0</td>\n",
       "      <td>0</td>\n",
       "      <td>0</td>\n",
       "      <td>0</td>\n",
       "      <td>1</td>\n",
       "      <td>0</td>\n",
       "      <td>0</td>\n",
       "      <td>0</td>\n",
       "      <td>1</td>\n",
       "    </tr>\n",
       "    <tr>\n",
       "      <th>3</th>\n",
       "      <td>47</td>\n",
       "      <td>1506</td>\n",
       "      <td>5</td>\n",
       "      <td>92</td>\n",
       "      <td>1</td>\n",
       "      <td>-1</td>\n",
       "      <td>0</td>\n",
       "      <td>0</td>\n",
       "      <td>1</td>\n",
       "      <td>0</td>\n",
       "      <td>...</td>\n",
       "      <td>0</td>\n",
       "      <td>0</td>\n",
       "      <td>0</td>\n",
       "      <td>0</td>\n",
       "      <td>0</td>\n",
       "      <td>1</td>\n",
       "      <td>0</td>\n",
       "      <td>0</td>\n",
       "      <td>0</td>\n",
       "      <td>1</td>\n",
       "    </tr>\n",
       "    <tr>\n",
       "      <th>4</th>\n",
       "      <td>33</td>\n",
       "      <td>1</td>\n",
       "      <td>5</td>\n",
       "      <td>198</td>\n",
       "      <td>1</td>\n",
       "      <td>-1</td>\n",
       "      <td>0</td>\n",
       "      <td>0</td>\n",
       "      <td>0</td>\n",
       "      <td>0</td>\n",
       "      <td>...</td>\n",
       "      <td>0</td>\n",
       "      <td>0</td>\n",
       "      <td>0</td>\n",
       "      <td>0</td>\n",
       "      <td>0</td>\n",
       "      <td>1</td>\n",
       "      <td>0</td>\n",
       "      <td>0</td>\n",
       "      <td>0</td>\n",
       "      <td>1</td>\n",
       "    </tr>\n",
       "    <tr>\n",
       "      <th>...</th>\n",
       "      <td>...</td>\n",
       "      <td>...</td>\n",
       "      <td>...</td>\n",
       "      <td>...</td>\n",
       "      <td>...</td>\n",
       "      <td>...</td>\n",
       "      <td>...</td>\n",
       "      <td>...</td>\n",
       "      <td>...</td>\n",
       "      <td>...</td>\n",
       "      <td>...</td>\n",
       "      <td>...</td>\n",
       "      <td>...</td>\n",
       "      <td>...</td>\n",
       "      <td>...</td>\n",
       "      <td>...</td>\n",
       "      <td>...</td>\n",
       "      <td>...</td>\n",
       "      <td>...</td>\n",
       "      <td>...</td>\n",
       "      <td>...</td>\n",
       "    </tr>\n",
       "    <tr>\n",
       "      <th>45198</th>\n",
       "      <td>37</td>\n",
       "      <td>1428</td>\n",
       "      <td>16</td>\n",
       "      <td>333</td>\n",
       "      <td>2</td>\n",
       "      <td>-1</td>\n",
       "      <td>0</td>\n",
       "      <td>0</td>\n",
       "      <td>0</td>\n",
       "      <td>0</td>\n",
       "      <td>...</td>\n",
       "      <td>0</td>\n",
       "      <td>0</td>\n",
       "      <td>0</td>\n",
       "      <td>0</td>\n",
       "      <td>0</td>\n",
       "      <td>0</td>\n",
       "      <td>1</td>\n",
       "      <td>0</td>\n",
       "      <td>0</td>\n",
       "      <td>1</td>\n",
       "    </tr>\n",
       "    <tr>\n",
       "      <th>45202</th>\n",
       "      <td>34</td>\n",
       "      <td>557</td>\n",
       "      <td>17</td>\n",
       "      <td>224</td>\n",
       "      <td>1</td>\n",
       "      <td>-1</td>\n",
       "      <td>0</td>\n",
       "      <td>1</td>\n",
       "      <td>0</td>\n",
       "      <td>0</td>\n",
       "      <td>...</td>\n",
       "      <td>0</td>\n",
       "      <td>0</td>\n",
       "      <td>0</td>\n",
       "      <td>0</td>\n",
       "      <td>0</td>\n",
       "      <td>0</td>\n",
       "      <td>1</td>\n",
       "      <td>0</td>\n",
       "      <td>0</td>\n",
       "      <td>1</td>\n",
       "    </tr>\n",
       "    <tr>\n",
       "      <th>45203</th>\n",
       "      <td>23</td>\n",
       "      <td>113</td>\n",
       "      <td>17</td>\n",
       "      <td>266</td>\n",
       "      <td>1</td>\n",
       "      <td>-1</td>\n",
       "      <td>0</td>\n",
       "      <td>0</td>\n",
       "      <td>0</td>\n",
       "      <td>0</td>\n",
       "      <td>...</td>\n",
       "      <td>0</td>\n",
       "      <td>0</td>\n",
       "      <td>0</td>\n",
       "      <td>0</td>\n",
       "      <td>0</td>\n",
       "      <td>0</td>\n",
       "      <td>1</td>\n",
       "      <td>0</td>\n",
       "      <td>0</td>\n",
       "      <td>1</td>\n",
       "    </tr>\n",
       "    <tr>\n",
       "      <th>45205</th>\n",
       "      <td>25</td>\n",
       "      <td>505</td>\n",
       "      <td>17</td>\n",
       "      <td>386</td>\n",
       "      <td>2</td>\n",
       "      <td>-1</td>\n",
       "      <td>0</td>\n",
       "      <td>0</td>\n",
       "      <td>0</td>\n",
       "      <td>0</td>\n",
       "      <td>...</td>\n",
       "      <td>0</td>\n",
       "      <td>0</td>\n",
       "      <td>0</td>\n",
       "      <td>0</td>\n",
       "      <td>0</td>\n",
       "      <td>0</td>\n",
       "      <td>1</td>\n",
       "      <td>0</td>\n",
       "      <td>0</td>\n",
       "      <td>1</td>\n",
       "    </tr>\n",
       "    <tr>\n",
       "      <th>45209</th>\n",
       "      <td>57</td>\n",
       "      <td>668</td>\n",
       "      <td>17</td>\n",
       "      <td>508</td>\n",
       "      <td>4</td>\n",
       "      <td>-1</td>\n",
       "      <td>0</td>\n",
       "      <td>0</td>\n",
       "      <td>1</td>\n",
       "      <td>0</td>\n",
       "      <td>...</td>\n",
       "      <td>0</td>\n",
       "      <td>0</td>\n",
       "      <td>0</td>\n",
       "      <td>0</td>\n",
       "      <td>0</td>\n",
       "      <td>0</td>\n",
       "      <td>1</td>\n",
       "      <td>0</td>\n",
       "      <td>0</td>\n",
       "      <td>1</td>\n",
       "    </tr>\n",
       "  </tbody>\n",
       "</table>\n",
       "<p>28193 rows × 48 columns</p>\n",
       "</div>"
      ],
      "text/plain": [
       "       age  balance  day  duration  campaign  pdays  previous  job_admin.  \\\n",
       "0       58     2143    5       261         1     -1         0           0   \n",
       "1       44       29    5       151         1     -1         0           0   \n",
       "2       33        2    5        76         1     -1         0           0   \n",
       "3       47     1506    5        92         1     -1         0           0   \n",
       "4       33        1    5       198         1     -1         0           0   \n",
       "...    ...      ...  ...       ...       ...    ...       ...         ...   \n",
       "45198   37     1428   16       333         2     -1         0           0   \n",
       "45202   34      557   17       224         1     -1         0           1   \n",
       "45203   23      113   17       266         1     -1         0           0   \n",
       "45205   25      505   17       386         2     -1         0           0   \n",
       "45209   57      668   17       508         4     -1         0           0   \n",
       "\n",
       "       job_blue-collar  job_entrepreneur  ...  month_feb  month_jan  \\\n",
       "0                    0                 0  ...          0          0   \n",
       "1                    0                 0  ...          0          0   \n",
       "2                    0                 1  ...          0          0   \n",
       "3                    1                 0  ...          0          0   \n",
       "4                    0                 0  ...          0          0   \n",
       "...                ...               ...  ...        ...        ...   \n",
       "45198                0                 0  ...          0          0   \n",
       "45202                0                 0  ...          0          0   \n",
       "45203                0                 0  ...          0          0   \n",
       "45205                0                 0  ...          0          0   \n",
       "45209                1                 0  ...          0          0   \n",
       "\n",
       "       month_jul  month_jun  month_mar  month_may  month_nov  month_oct  \\\n",
       "0              0          0          0          1          0          0   \n",
       "1              0          0          0          1          0          0   \n",
       "2              0          0          0          1          0          0   \n",
       "3              0          0          0          1          0          0   \n",
       "4              0          0          0          1          0          0   \n",
       "...          ...        ...        ...        ...        ...        ...   \n",
       "45198          0          0          0          0          1          0   \n",
       "45202          0          0          0          0          1          0   \n",
       "45203          0          0          0          0          1          0   \n",
       "45205          0          0          0          0          1          0   \n",
       "45209          0          0          0          0          1          0   \n",
       "\n",
       "       month_sep  poutcome_unknown  \n",
       "0              0                 1  \n",
       "1              0                 1  \n",
       "2              0                 1  \n",
       "3              0                 1  \n",
       "4              0                 1  \n",
       "...          ...               ...  \n",
       "45198          0                 1  \n",
       "45202          0                 1  \n",
       "45203          0                 1  \n",
       "45205          0                 1  \n",
       "45209          0                 1  \n",
       "\n",
       "[28193 rows x 48 columns]"
      ]
     },
     "execution_count": 67,
     "metadata": {},
     "output_type": "execute_result"
    }
   ],
   "source": [
    "# data\n",
    "X"
   ]
  },
  {
   "cell_type": "code",
   "execution_count": 68,
   "id": "a5c73558",
   "metadata": {},
   "outputs": [
    {
     "data": {
      "text/plain": [
       "0         no\n",
       "1         no\n",
       "2         no\n",
       "3         no\n",
       "4         no\n",
       "        ... \n",
       "45198     no\n",
       "45202    yes\n",
       "45203    yes\n",
       "45205    yes\n",
       "45209     no\n",
       "Name: y, Length: 28193, dtype: object"
      ]
     },
     "execution_count": 68,
     "metadata": {},
     "output_type": "execute_result"
    }
   ],
   "source": [
    "# target\n",
    "y"
   ]
  },
  {
   "cell_type": "code",
   "execution_count": 69,
   "id": "732bf042",
   "metadata": {},
   "outputs": [
    {
     "name": "stdout",
     "output_type": "stream",
     "text": [
      "(19735, 48)\n",
      "(8458, 48)\n",
      "(19735,)\n",
      "(8458,)\n"
     ]
    }
   ],
   "source": [
    "# Splitting X and y into training and testing sets\n",
    "X_train, X_test, y_train, y_test = train_test_split(X, y, test_size=0.3, random_state=0)\n",
    "\n",
    "# Shapes (X)\n",
    "print(X_train.shape)\n",
    "print(X_test.shape)\n",
    "\n",
    "# Shapes (y)\n",
    "print(y_train.shape)\n",
    "print(y_test.shape)"
   ]
  },
  {
   "cell_type": "code",
   "execution_count": 70,
   "id": "12a31d01",
   "metadata": {},
   "outputs": [],
   "source": [
    "# Scale Data\n",
    "scaler = StandardScaler()\n",
    "X_train = scaler.fit_transform(X_train)\n",
    "X_test = scaler.transform(X_test)"
   ]
  },
  {
   "cell_type": "markdown",
   "id": "cb4aec59",
   "metadata": {},
   "source": [
    "## Logistic Regression"
   ]
  },
  {
   "cell_type": "code",
   "execution_count": 71,
   "id": "897ca6b1",
   "metadata": {
    "scrolled": false
   },
   "outputs": [
    {
     "data": {
      "image/png": "[encoded data removed]",
      "text/plain": [
       "<Figure size 360x288 with 2 Axes>"
      ]
     },
     "metadata": {
      "needs_background": "light"
     },
     "output_type": "display_data"
    },
    {
     "name": "stdout",
     "output_type": "stream",
     "text": [
      "Classification Report\n",
      "               precision    recall  f1-score   support\n",
      "\n",
      "          no       0.96      0.99      0.97      7993\n",
      "         yes       0.58      0.20      0.30       465\n",
      "\n",
      "    accuracy                           0.95      8458\n",
      "   macro avg       0.77      0.60      0.64      8458\n",
      "weighted avg       0.93      0.95      0.94      8458\n",
      "\n"
     ]
    }
   ],
   "source": [
    "# Training the model on training set\n",
    "model_lr = LogisticRegression()\n",
    "model_lr.fit(X_train, y_train)\n",
    "\n",
    "# Making predictions on the testing set\n",
    "y_pred = model_lr.predict(X_test)\n",
    "\n",
    "# Create a confusion Matrix\n",
    "cm = confusion_matrix(y_test, y_pred)\n",
    "\n",
    "plt.figure(figsize=(5,4))\n",
    "sns.heatmap(cm, annot=True, fmt=\".0f\", cmap=\"PuRd\", annot_kws={\"fontsize\":12})\n",
    "plt.title(\"Logistic Regression\\nAccuracy:{:.3f}\".format(accuracy_score(y_test, y_pred)), fontsize=14)\n",
    "plt.xlabel(\"Predicted\", fontsize=12)\n",
    "plt.ylabel(\"Actual\", fontsize=12)\n",
    "plt.show()\n",
    "print(\"Classification Report\\n\", classification_report(y_test, y_pred))\n"
   ]
  },
  {
   "cell_type": "markdown",
   "id": "3f250fef",
   "metadata": {},
   "source": [
    "## K-Nearest Neighbors"
   ]
  },
  {
   "cell_type": "code",
   "execution_count": 72,
   "id": "19d7daeb",
   "metadata": {},
   "outputs": [
    {
     "data": {
      "image/png": "[encoded data removed]",
      "text/plain": [
       "<Figure size 360x288 with 2 Axes>"
      ]
     },
     "metadata": {
      "needs_background": "light"
     },
     "output_type": "display_data"
    },
    {
     "name": "stdout",
     "output_type": "stream",
     "text": [
      "Classification Report:\n",
      "               precision    recall  f1-score   support\n",
      "\n",
      "          no       0.95      0.99      0.97      7993\n",
      "         yes       0.47      0.19      0.27       465\n",
      "\n",
      "    accuracy                           0.94      8458\n",
      "   macro avg       0.71      0.59      0.62      8458\n",
      "weighted avg       0.93      0.94      0.93      8458\n",
      "\n"
     ]
    }
   ],
   "source": [
    "# Training the model on training set\n",
    "model_knn = KNeighborsClassifier()\n",
    "model_knn.fit(X_train, y_train)\n",
    "\n",
    "# Making predictions on the testing set\n",
    "y_pred = model_knn.predict(X_test)\n",
    "\n",
    "# Create a confusion Matrix\n",
    "cm = confusion_matrix(y_test, y_pred)\n",
    "\n",
    "plt.figure(figsize=(5,4))\n",
    "sns.heatmap(cm, annot=True,fmt=\".0f\", cmap=\"PuRd\", annot_kws={\"fontsize\":12})\n",
    "plt.title(\"K-Nearest Neighbors\\nAccuracy:{:.3f}\".format(accuracy_score(y_test, y_pred)), fontsize=14)\n",
    "plt.xlabel(\"Predicted\", fontsize=12)\n",
    "plt.ylabel(\"Actual\", fontsize=12)\n",
    "plt.show()\n",
    "print(\"Classification Report:\\n\", classification_report(y_test, y_pred))"
   ]
  },
  {
   "cell_type": "markdown",
   "id": "abc58f8b",
   "metadata": {},
   "source": [
    "## Support Vector Machine"
   ]
  },
  {
   "cell_type": "code",
   "execution_count": 73,
   "id": "de0ee738",
   "metadata": {},
   "outputs": [
    {
     "data": {
      "image/png": "[encoded data removed]",
      "text/plain": [
       "<Figure size 360x288 with 2 Axes>"
      ]
     },
     "metadata": {
      "needs_background": "light"
     },
     "output_type": "display_data"
    },
    {
     "name": "stdout",
     "output_type": "stream",
     "text": [
      "Classification Report:\n",
      "               precision    recall  f1-score   support\n",
      "\n",
      "          no       0.95      1.00      0.97      7993\n",
      "         yes       0.70      0.12      0.21       465\n",
      "\n",
      "    accuracy                           0.95      8458\n",
      "   macro avg       0.82      0.56      0.59      8458\n",
      "weighted avg       0.94      0.95      0.93      8458\n",
      "\n"
     ]
    }
   ],
   "source": [
    "# Training the model on training set\n",
    "model_svm = SVC()\n",
    "model_svm.fit(X_train, y_train)\n",
    "\n",
    "# Making predictions on the testing set\n",
    "y_pred = model_svm.predict(X_test)\n",
    "\n",
    "# Create a confusion Matrix\n",
    "cm = confusion_matrix(y_test, y_pred)\n",
    "\n",
    "plt.figure(figsize=(5,4))\n",
    "sns.heatmap(cm, annot=True,fmt=\".0f\", cmap=\"PuRd\", annot_kws={\"fontsize\":12})\n",
    "plt.title(\"Support Vector Machine (SVM)\\nAccuracy:{:.3f}\".format(accuracy_score(y_test, y_pred)), fontsize=14)\n",
    "plt.xlabel(\"Predicted\", fontsize=12)\n",
    "plt.ylabel(\"Actual\", fontsize=12)\n",
    "plt.show()\n",
    "print(\"Classification Report:\\n\", classification_report(y_test, y_pred))"
   ]
  },
  {
   "cell_type": "markdown",
   "id": "9e11ad66",
   "metadata": {},
   "source": [
    "## Decision Tree"
   ]
  },
  {
   "cell_type": "code",
   "execution_count": 74,
   "id": "5fbcdf52",
   "metadata": {},
   "outputs": [
    {
     "data": {
      "image/png": "[encoded data removed]",
      "text/plain": [
       "<Figure size 360x288 with 2 Axes>"
      ]
     },
     "metadata": {
      "needs_background": "light"
     },
     "output_type": "display_data"
    },
    {
     "name": "stdout",
     "output_type": "stream",
     "text": [
      "Classification Report:\n",
      "               precision    recall  f1-score   support\n",
      "\n",
      "          no       0.96      0.96      0.96      7993\n",
      "         yes       0.34      0.37      0.36       465\n",
      "\n",
      "    accuracy                           0.93      8458\n",
      "   macro avg       0.65      0.66      0.66      8458\n",
      "weighted avg       0.93      0.93      0.93      8458\n",
      "\n"
     ]
    }
   ],
   "source": [
    "# Training the model on training set\n",
    "model_tree = DecisionTreeClassifier()\n",
    "model_tree.fit(X_train, y_train)\n",
    "\n",
    "# Making predictions on the testing set\n",
    "y_pred = model_tree.predict(X_test)\n",
    "# Create a confusion Matrix\n",
    "cm = confusion_matrix(y_test, y_pred)\n",
    "\n",
    "plt.figure(figsize=(5,4))\n",
    "sns.heatmap(cm, annot=True,fmt=\".0f\", cmap=\"PuRd\", annot_kws={\"fontsize\":12})\n",
    "plt.title(\"Decision Tree\\nAccuracy:{:.3f}\".format(accuracy_score(y_test, y_pred)), fontsize=14)\n",
    "plt.xlabel(\"Predicted\", fontsize=12)\n",
    "plt.ylabel(\"Actual\", fontsize=12)\n",
    "plt.show()\n",
    "print(\"Classification Report:\\n\", classification_report(y_test, y_pred))"
   ]
  },
  {
   "cell_type": "markdown",
   "id": "7bd204c5",
   "metadata": {},
   "source": [
    "## Random Forest"
   ]
  },
  {
   "cell_type": "code",
   "execution_count": 75,
   "id": "280b59c6",
   "metadata": {},
   "outputs": [
    {
     "data": {
      "image/png": "[encoded data removed]",
      "text/plain": [
       "<Figure size 360x288 with 2 Axes>"
      ]
     },
     "metadata": {
      "needs_background": "light"
     },
     "output_type": "display_data"
    },
    {
     "name": "stdout",
     "output_type": "stream",
     "text": [
      "Classification Report:\n",
      "               precision    recall  f1-score   support\n",
      "\n",
      "          no       0.95      0.99      0.97      7993\n",
      "         yes       0.59      0.18      0.27       465\n",
      "\n",
      "    accuracy                           0.95      8458\n",
      "   macro avg       0.77      0.58      0.62      8458\n",
      "weighted avg       0.93      0.95      0.93      8458\n",
      "\n"
     ]
    }
   ],
   "source": [
    "# Training the model on training set\n",
    "model_rf = RandomForestClassifier(n_estimators=100)\n",
    "model_rf.fit(X_train, y_train)\n",
    "\n",
    "# Making predictions on the testing set\n",
    "y_pred = model_rf.predict(X_test)\n",
    "\n",
    "# Create a confusion Matrix\n",
    "cm = confusion_matrix(y_test, y_pred)\n",
    "\n",
    "plt.figure(figsize=(5,4))\n",
    "sns.heatmap(cm, annot=True,fmt=\".0f\", cmap=\"PuRd\", annot_kws={\"fontsize\":12})\n",
    "plt.title(\"Random Forest\\nAccuracy:{:.3f}\".format(accuracy_score(y_test, y_pred)), fontsize=14)\n",
    "plt.xlabel(\"Predicted\", fontsize=12)\n",
    "plt.ylabel(\"Actual\", fontsize=12)\n",
    "plt.show()\n",
    "print(\"Classification Report:\\n\", classification_report(y_test, y_pred))"
   ]
  },
  {
   "cell_type": "code",
   "execution_count": 76,
   "id": "8dc161aa",
   "metadata": {
    "scrolled": false
   },
   "outputs": [
    {
     "data": {
      "image/png": "[encoded data removed]",
      "text/plain": [
       "<Figure size 1008x576 with 1 Axes>"
      ]
     },
     "metadata": {
      "needs_background": "light"
     },
     "output_type": "display_data"
    }
   ],
   "source": [
    "feature_imp = pd.Series(model_rf.feature_importances_, index=X.columns).sort_values(ascending=False).head(15)\n",
    "plt.figure(figsize=(14, 8))\n",
    "sns.barplot(x=feature_imp, y=feature_imp.index, palette=\"magma\")\n",
    "plt.xlabel(\"Feature Importances Score\")\n",
    "plt.ylabel(\"Features\")\n",
    "plt.title(\"Visualizing Important Features\")\n",
    "plt.show()"
   ]
  },
  {
   "cell_type": "markdown",
   "id": "7b69f094",
   "metadata": {},
   "source": [
    "Berdasarkan visualisasi diatas, menunjukkan fitur-fitur terpenting. 5 fitur tersebut diantaranya adalah `duration`, `balance`, `age`, `day`, dan `campaign`."
   ]
  },
  {
   "cell_type": "markdown",
   "id": "a0d45891",
   "metadata": {},
   "source": [
    "## Naive Bayes\n"
   ]
  },
  {
   "cell_type": "code",
   "execution_count": 77,
   "id": "fb4be135",
   "metadata": {
    "scrolled": false
   },
   "outputs": [
    {
     "data": {
      "image/png": "[encoded data removed]",
      "text/plain": [
       "<Figure size 360x288 with 2 Axes>"
      ]
     },
     "metadata": {
      "needs_background": "light"
     },
     "output_type": "display_data"
    },
    {
     "name": "stdout",
     "output_type": "stream",
     "text": [
      "Classification Report:\n",
      "               precision    recall  f1-score   support\n",
      "\n",
      "          no       0.97      0.92      0.94      7993\n",
      "         yes       0.24      0.47      0.32       465\n",
      "\n",
      "    accuracy                           0.89      8458\n",
      "   macro avg       0.61      0.69      0.63      8458\n",
      "weighted avg       0.93      0.89      0.91      8458\n",
      "\n"
     ]
    }
   ],
   "source": [
    "# Training the model on training set\n",
    "model_nb = GaussianNB()\n",
    "model_nb.fit(X_train, y_train)\n",
    "\n",
    "# Making predictions on the testing set\n",
    "y_pred = model_nb.predict(X_test)\n",
    "\n",
    "# Create a confusion Matrix\n",
    "cm = confusion_matrix(y_test, y_pred)\n",
    " \n",
    "plt.figure(figsize=(5,4))\n",
    "sns.heatmap(cm, annot=True,fmt=\".0f\", cmap=\"PuRd\", annot_kws={\"fontsize\":12})\n",
    "plt.title(\"Naive Bayes\\nAccuracy:{:.3f}\".format(accuracy_score(y_test, y_pred)), fontsize=14)\n",
    "plt.xlabel(\"Predicted\", fontsize=12)\n",
    "plt.ylabel(\"Actual\", fontsize=12)\n",
    "plt.show()\n",
    "print(\"Classification Report:\\n\", classification_report(y_test, y_pred))"
   ]
  },
  {
   "cell_type": "markdown",
   "id": "7ed830b0",
   "metadata": {},
   "source": [
    "# Analysis"
   ]
  },
  {
   "cell_type": "markdown",
   "id": "1504fb02",
   "metadata": {},
   "source": [
    "- Customer dengan pekerjaan \"blue-collar\", cenderung tidak berlangganan deposit berjangka dibandingkan Customer dengan pekerjaan \"management\" yang cenderung lebih berlangganan deposit berjangka.\n",
    "- Customer dengan status pernikahan \"married\" cenderung tidak berlangganan deposit berjangka dibandingkan Customer yang berstatus \"single\" dan \"divorced\".\n",
    "- Customer dengan jenis kontak \"cellular\" cenderung tidak berlangganan deposit berjangka.\n",
    "- Customer dengan usia yang tua dan memiliki saldo yang tinggi, cenderung berlangganan deposit berjangka.\n",
    "- Dari model yang telah dibuat berdasarkan macam-macam metode klasifikasi, bahwa metode klasifikasi SVM (Support Vector Machine) memiliki akurasi yang lebih tinggi yaitu 94,8%."
   ]
  }
 ],
 "metadata": {
  "kernelspec": {
   "display_name": "Python 3",
   "language": "python",
   "name": "python3"
  },
  "language_info": {
   "codemirror_mode": {
    "name": "ipython",
    "version": 3
   },
   "file_extension": ".py",
   "mimetype": "text/x-python",
   "name": "python",
   "nbconvert_exporter": "python",
   "pygments_lexer": "ipython3",
   "version": "3.8.8"
  },
  "toc": {
   "base_numbering": 1,
   "nav_menu": {},
   "number_sections": true,
   "sideBar": true,
   "skip_h1_title": false,
   "title_cell": "Table of Contents",
   "title_sidebar": "Contents",
   "toc_cell": false,
   "toc_position": {
    "height": "calc(100% - 180px)",
    "left": "10px",
    "top": "150px",
    "width": "246.38px"
   },
   "toc_section_display": true,
   "toc_window_display": true
  }
 },
 "nbformat": 4,
 "nbformat_minor": 5
}
